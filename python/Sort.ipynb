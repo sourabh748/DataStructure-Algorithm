{
 "cells": [
  {
   "cell_type": "code",
   "execution_count": 2,
   "id": "978aae91",
   "metadata": {},
   "outputs": [],
   "source": [
    "from modules.Sort import selection_sort, bubble_sort, insertion_sort, reverse_insertion_sort, merge_sort"
   ]
  },
  {
   "cell_type": "code",
   "execution_count": 6,
   "id": "28478927",
   "metadata": {},
   "outputs": [
    {
     "name": "stdout",
     "output_type": "stream",
     "text": [
      "[0, 1, 3, 4, 4, 7, 9, 10]\n"
     ]
    }
   ],
   "source": [
    "arr = [ 1, 7, 9, 4, 3, 0, 4, 10]\n",
    "# bubble_sort(arr, increasing=True)\n",
    "# print(arr)\n",
    "# insertion_sort(arr)\n",
    "# print(arr)\n",
    "selection_sort(arr)\n",
    "print(arr)"
   ]
  },
  {
   "cell_type": "code",
   "execution_count": 8,
   "id": "90841908",
   "metadata": {},
   "outputs": [],
   "source": [
    "from jovian.pythondsa import evaluate_test_case\n",
    "import random\n",
    "import copy"
   ]
  },
  {
   "cell_type": "code",
   "execution_count": 6,
   "id": "24c83be1",
   "metadata": {},
   "outputs": [],
   "source": [
    "output = list(range(1000000))\n",
    "input = list(range(1000000))\n",
    "random.shuffle(input)"
   ]
  },
  {
   "cell_type": "code",
   "execution_count": 7,
   "id": "788ed6cb",
   "metadata": {},
   "outputs": [],
   "source": [
    "test = {\n",
    "    'input' : {\n",
    "        'arr': input\n",
    "    },\n",
    "    'output': output\n",
    "}"
   ]
  },
  {
   "cell_type": "code",
   "execution_count": 9,
   "id": "077ef53a",
   "metadata": {},
   "outputs": [],
   "source": [
    "test2 = copy.deepcopy(test)"
   ]
  },
  {
   "cell_type": "code",
   "execution_count": 11,
   "id": "eb9958b9",
   "metadata": {},
   "outputs": [],
   "source": [
    "test3 = copy.deepcopy(test)"
   ]
  },
  {
   "cell_type": "code",
   "execution_count": 12,
   "id": "a9af1cd4",
   "metadata": {},
   "outputs": [],
   "source": [
    "from threading import Thread"
   ]
  },
  {
   "cell_type": "code",
   "execution_count": 15,
   "id": "43861f6b",
   "metadata": {},
   "outputs": [],
   "source": [
    "thread1 = Thread(target=evaluate_test_case, args=(insertion_sort, test))\n",
    "thread2 = Thread(target=evaluate_test_case, args=(merge_sort, test2))\n",
    "thread3 = Thread(target=evaluate_test_case, args=(bubble_sort, test3))"
   ]
  },
  {
   "cell_type": "code",
   "execution_count": null,
   "id": "b22b29d3",
   "metadata": {},
   "outputs": [
    {
     "name": "stdout",
     "output_type": "stream",
     "text": [
      "\n",
      "Input:\n",
      "{'arr': [114033, 223376, 639900, 177759, 677114, 390760, 452692, 309046, 856693, 271394, 474316, 848...\n",
      "\n",
      "Expected Output:\n",
      "[0, 1, 2, 3, 4, 5, 6, 7, 8, 9, 10, 11, 12, 13, 14, 15, 16, 17, 18, 19, 20, 21, 22, 23, 24, 25, 26, 2...\n",
      "\n",
      "\n",
      "Input:\n",
      "{'arr': [114033, 223376, 639900, 177759, 677114, 390760, 452692, 309046, 856693, 271394, 474316, 848...\n",
      "\n",
      "Expected Output:\n",
      "[0, 1, 2, 3, 4, 5, 6, 7, 8, 9, 10, 11, 12, 13, 14, 15, 16, 17, 18, 19, 20, 21, 22, 23, 24, 25, 26, 2...\n",
      "\n",
      "\n",
      "Input:\n",
      "{'arr': [114033, 223376, 639900, 177759, 677114, 390760, 452692, 309046, 856693, 271394, 474316, 848...\n",
      "\n",
      "Expected Output:\n",
      "[0, 1, 2, 3, 4, 5, 6, 7, 8, 9, 10, 11, 12, 13, 14, 15, 16, 17, 18, 19, 20, 21, 22, 23, 24, 25, 26, 2...\n",
      "\n",
      "\n",
      "Actual Output:\n",
      "None\n",
      "\n",
      "Execution Time:\n",
      "9467.974 ms\n",
      "\n",
      "Test Result:\n",
      "\u001b[91mFAILED\u001b[0m\n",
      "\n"
     ]
    }
   ],
   "source": [
    "thread1.start()\n",
    "thread2.start()\n",
    "thread3.start()\n",
    "\n",
    "thread1.join()\n",
    "thread2.join()\n",
    "thread3.join()"
   ]
  },
  {
   "cell_type": "code",
   "execution_count": null,
   "id": "835595a8",
   "metadata": {},
   "outputs": [],
   "source": []
  }
 ],
 "metadata": {
  "kernelspec": {
   "display_name": "env",
   "language": "python",
   "name": "python3"
  },
  "language_info": {
   "codemirror_mode": {
    "name": "ipython",
    "version": 3
   },
   "file_extension": ".py",
   "mimetype": "text/x-python",
   "name": "python",
   "nbconvert_exporter": "python",
   "pygments_lexer": "ipython3",
   "version": "3.12.9"
  }
 },
 "nbformat": 4,
 "nbformat_minor": 5
}
