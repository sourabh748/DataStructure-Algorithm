{
 "cells": [
  {
   "cell_type": "markdown",
   "id": "f3d6a5dc",
   "metadata": {},
   "source": []
  },
  {
   "cell_type": "markdown",
   "id": "2034f9d2",
   "metadata": {},
   "source": [
    "## Self-Balancing Binary Trees and AVL Trees\n",
    "\n",
    "A *self-balancing binary tree* remains balanced after every insertion or deletion. Several decades of research has gone into creating self-balancing binary trees, and many approaches have been devised e.g. B-trees, Red Black Trees and  AVL (Adelson-Velsky Landis) trees.\n",
    "\n",
    "We'll take a brief look at AVL trees. Self-balancing in AVL trees is achieved by tracking the *balance factor* (difference between the height of the left subtree and the right subtree) for each node and *rotating* unbalanced subtrees along the path of insertion/deletion to balance them.\n",
    "\n",
    "![](https://upload.wikimedia.org/wikipedia/commons/f/fd/AVL_Tree_Example.gif)\n",
    "\n",
    "In a balanced BST, the balance factor of each node is either 0, -1, or 1. When we perform an insertion, then the balance factor of certain nodes along the path of insertion may change to 2 or -2. Those nodes can be \"rotated\" one-by-one to bring the balance factor back to 1, 0 or -1. \n",
    "\n",
    "There are 4 different scenarios for balancing, two of which require a single rotation, while the others require 2 rotations:\n",
    "\n",
    "\n",
    "![](https://s3.amazonaws.com/hr-challenge-images/0/1436854305-b167cc766c-AVL_Tree_Rebalancing.svg.png)\n",
    "\n",
    "Source: [HackerRank](https://www.hackerrank.com/challenges/self-balancing-tree/problem)\n",
    "\n",
    "Since each rotation takes constant time, and at most `log N` rotations may be required, this operation is far more efficient than creating a balanced binary tree from scratch, allowing insertion and deletion to be performed in `O (log N)` time. Here are some references for AVL Trees:\n",
    "\n",
    "* Explanation of the various cases: https://youtu.be/jDM6_TnYIqE?t=482\n",
    "* Implementation: https://www.geeksforgeeks.org/avl-tree-set-1-insertion/"
   ]
  },
  {
   "cell_type": "markdown",
   "id": "94f996da",
   "metadata": {},
   "source": [
    "## Summary and Exercises\n",
    "\n",
    "![](https://i.imgur.com/lVqP63n.png)\n",
    "\n",
    "Binary trees form the basis of many modern programming language features (e.g. maps in C++ and Java) and data storage systems (filesystem indexes, relational databases like MySQL). You might wonder if dictionaries in Python are also binary search trees. They're not. They're hash tables, which is a different but equally interesting and important data structure. We'll explore hash tables in a future tutorial.\n",
    "\n",
    "\n",
    "\n",
    "\n",
    "\n",
    "\n",
    "We've covered a lot of ground this in this tutorial, including several common interview questions. Here are a few more problems you can try out:\n",
    "\n",
    "1. Implement rotations and self-balancing insertion\n",
    "1. Implement deletion of a node from a binary search tree\n",
    "2. Implement deletion of a node from a BST (with balancing)\n",
    "3. Find the lowest common ancestor of two nodes in a tree (Hint: Use the `parent` property)\n",
    "4. Find the next node in lexicographic order for a given node\n",
    "5. Given a number k, find the k-th node in a BST.\n",
    "\n",
    "Try more questions here: \n",
    "\n",
    "* https://medium.com/techie-delight/binary-tree-interview-questions-and-practice-problems-439df7e5ea1f\n",
    "* https://leetcode.com/tag/tree/\n",
    "\n",
    "\n",
    "\n"
   ]
  },
  {
   "cell_type": "markdown",
   "id": "6b79fad5",
   "metadata": {},
   "source": []
  }
 ],
 "metadata": {
  "kernelspec": {
   "display_name": "env",
   "language": "python",
   "name": "python3"
  },
  "language_info": {
   "name": "python",
   "version": "3.12.9"
  }
 },
 "nbformat": 4,
 "nbformat_minor": 5
}
